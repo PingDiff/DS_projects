{
 "cells": [
  {
   "cell_type": "markdown",
   "metadata": {},
   "source": [
    "## Introduction\n",
    "\n",
    "Through this notebook, we are performing data analysis on a prescription drug data set from the British NHS using python. We'll attempt to identify what medical practices prescribe opioids at an usually high rate and what practices are prescribing substantially more rare drugs compared to the rest of the medical practices. We'll also try to utilize z-scores to help identify the aforementioned practices."
   ]
  },
  {
   "cell_type": "markdown",
   "metadata": {
    "heading_collapsed": true
   },
   "source": [
    "## Downloading the data\n",
    "\n",
    "We first need to download the data we'll be using from Amazon S3:"
   ]
  },
  {
   "cell_type": "code",
   "execution_count": 1,
   "metadata": {
    "hidden": true
   },
   "outputs": [
    {
     "name": "stdout",
     "output_type": "stream",
     "text": [
      "--2021-12-26 23:20:39--  http://dataincubator-wqu.s3.amazonaws.com/dwdata/201701scripts_sample.csv.gz\n",
      "Resolving dataincubator-wqu.s3.amazonaws.com (dataincubator-wqu.s3.amazonaws.com)... 52.217.96.140\n",
      "Connecting to dataincubator-wqu.s3.amazonaws.com (dataincubator-wqu.s3.amazonaws.com)|52.217.96.140|:80... connected.\n",
      "HTTP request sent, awaiting response... 200 OK\n",
      "Length: 19011654 (18M) [text/csv]\n",
      "Saving to: ‘./dw-data/201701scripts_sample.csv.gz’\n",
      "\n",
      "201701scripts_sampl 100%[===================>]  18.13M  1.14MB/s    in 17s     \n",
      "\n",
      "2021-12-26 23:20:56 (1.10 MB/s) - ‘./dw-data/201701scripts_sample.csv.gz’ saved [19011654/19011654]\n",
      "\n",
      "--2021-12-26 23:20:56--  http://dataincubator-wqu.s3.amazonaws.com/dwdata/201606scripts_sample.csv.gz\n",
      "Resolving dataincubator-wqu.s3.amazonaws.com (dataincubator-wqu.s3.amazonaws.com)... 54.231.200.41\n",
      "Connecting to dataincubator-wqu.s3.amazonaws.com (dataincubator-wqu.s3.amazonaws.com)|54.231.200.41|:80... connected.\n",
      "HTTP request sent, awaiting response... 200 OK\n",
      "Length: 18768259 (18M) [text/csv]\n",
      "Saving to: ‘./dw-data/201606scripts_sample.csv.gz’\n",
      "\n",
      "201606scripts_sampl 100%[===================>]  17.90M  1.09MB/s    in 16s     \n",
      "\n",
      "2021-12-26 23:21:16 (1.09 MB/s) - ‘./dw-data/201606scripts_sample.csv.gz’ saved [18768259/18768259]\n",
      "\n",
      "--2021-12-26 23:21:16--  http://dataincubator-wqu.s3.amazonaws.com/dwdata/practices.csv.gz\n",
      "Resolving dataincubator-wqu.s3.amazonaws.com (dataincubator-wqu.s3.amazonaws.com)... 52.217.201.129\n",
      "Connecting to dataincubator-wqu.s3.amazonaws.com (dataincubator-wqu.s3.amazonaws.com)|52.217.201.129|:80... connected.\n",
      "HTTP request sent, awaiting response... 200 OK\n",
      "Length: 333225 (325K) [application/x-gzip]\n",
      "Saving to: ‘./dw-data/practices.csv.gz’\n",
      "\n",
      "practices.csv.gz    100%[===================>] 325.42K   560KB/s    in 0.6s    \n",
      "\n",
      "2021-12-26 23:21:17 (560 KB/s) - ‘./dw-data/practices.csv.gz’ saved [333225/333225]\n",
      "\n",
      "--2021-12-26 23:21:17--  http://dataincubator-wqu.s3.amazonaws.com/dwdata/chem.csv.gz\n",
      "Resolving dataincubator-wqu.s3.amazonaws.com (dataincubator-wqu.s3.amazonaws.com)... 52.217.201.129\n",
      "Connecting to dataincubator-wqu.s3.amazonaws.com (dataincubator-wqu.s3.amazonaws.com)|52.217.201.129|:80... connected.\n",
      "HTTP request sent, awaiting response... 200 OK\n",
      "Length: 31829 (31K) [application/x-gzip]\n",
      "Saving to: ‘./dw-data/chem.csv.gz’\n",
      "\n",
      "chem.csv.gz         100%[===================>]  31.08K  --.-KB/s    in 0.1s    \n",
      "\n",
      "2021-12-26 23:21:17 (238 KB/s) - ‘./dw-data/chem.csv.gz’ saved [31829/31829]\n",
      "\n"
     ]
    }
   ],
   "source": [
    "!mkdir dw-data\n",
    "!wget http://dataincubator-wqu.s3.amazonaws.com/dwdata/201701scripts_sample.csv.gz -nc -P ./dw-data/\n",
    "!wget http://dataincubator-wqu.s3.amazonaws.com/dwdata/201606scripts_sample.csv.gz -nc -P ./dw-data/\n",
    "!wget http://dataincubator-wqu.s3.amazonaws.com/dwdata/practices.csv.gz -nc -P ./dw-data/\n",
    "!wget http://dataincubator-wqu.s3.amazonaws.com/dwdata/chem.csv.gz -nc -P ./dw-data/"
   ]
  },
  {
   "cell_type": "markdown",
   "metadata": {
    "heading_collapsed": true
   },
   "source": [
    "## Loading the data"
   ]
  },
  {
   "cell_type": "code",
   "execution_count": 2,
   "metadata": {
    "hidden": true
   },
   "outputs": [],
   "source": [
    "import pandas as pd\n",
    "import numpy as np\n",
    "import gzip"
   ]
  },
  {
   "cell_type": "code",
   "execution_count": 3,
   "metadata": {
    "hidden": true,
    "scrolled": false
   },
   "outputs": [
    {
     "data": {
      "text/html": [
       "<div>\n",
       "<style scoped>\n",
       "    .dataframe tbody tr th:only-of-type {\n",
       "        vertical-align: middle;\n",
       "    }\n",
       "\n",
       "    .dataframe tbody tr th {\n",
       "        vertical-align: top;\n",
       "    }\n",
       "\n",
       "    .dataframe thead th {\n",
       "        text-align: right;\n",
       "    }\n",
       "</style>\n",
       "<table border=\"1\" class=\"dataframe\">\n",
       "  <thead>\n",
       "    <tr style=\"text-align: right;\">\n",
       "      <th></th>\n",
       "      <th>practice</th>\n",
       "      <th>bnf_code</th>\n",
       "      <th>bnf_name</th>\n",
       "      <th>items</th>\n",
       "      <th>nic</th>\n",
       "      <th>act_cost</th>\n",
       "      <th>quantity</th>\n",
       "    </tr>\n",
       "  </thead>\n",
       "  <tbody>\n",
       "    <tr>\n",
       "      <th>0</th>\n",
       "      <td>N85639</td>\n",
       "      <td>0106020C0</td>\n",
       "      <td>Bisacodyl_Tab E/C 5mg</td>\n",
       "      <td>1</td>\n",
       "      <td>0.39</td>\n",
       "      <td>0.47</td>\n",
       "      <td>12</td>\n",
       "    </tr>\n",
       "    <tr>\n",
       "      <th>1</th>\n",
       "      <td>N85639</td>\n",
       "      <td>0106040M0</td>\n",
       "      <td>Movicol Plain_Paed Pdr Sach 6.9g</td>\n",
       "      <td>1</td>\n",
       "      <td>4.38</td>\n",
       "      <td>4.07</td>\n",
       "      <td>30</td>\n",
       "    </tr>\n",
       "    <tr>\n",
       "      <th>2</th>\n",
       "      <td>N85639</td>\n",
       "      <td>0301011R0</td>\n",
       "      <td>Salbutamol_Inha 100mcg (200 D) CFF</td>\n",
       "      <td>1</td>\n",
       "      <td>1.50</td>\n",
       "      <td>1.40</td>\n",
       "      <td>1</td>\n",
       "    </tr>\n",
       "    <tr>\n",
       "      <th>3</th>\n",
       "      <td>N85639</td>\n",
       "      <td>0304010G0</td>\n",
       "      <td>Chlorphenamine Mal_Oral Soln 2mg/5ml</td>\n",
       "      <td>1</td>\n",
       "      <td>2.62</td>\n",
       "      <td>2.44</td>\n",
       "      <td>150</td>\n",
       "    </tr>\n",
       "    <tr>\n",
       "      <th>4</th>\n",
       "      <td>N85639</td>\n",
       "      <td>0401020K0</td>\n",
       "      <td>Diazepam_Tab 2mg</td>\n",
       "      <td>1</td>\n",
       "      <td>0.16</td>\n",
       "      <td>0.26</td>\n",
       "      <td>6</td>\n",
       "    </tr>\n",
       "  </tbody>\n",
       "</table>\n",
       "</div>"
      ],
      "text/plain": [
       "  practice   bnf_code                              bnf_name  items   nic  \\\n",
       "0   N85639  0106020C0                 Bisacodyl_Tab E/C 5mg      1  0.39   \n",
       "1   N85639  0106040M0      Movicol Plain_Paed Pdr Sach 6.9g      1  4.38   \n",
       "2   N85639  0301011R0    Salbutamol_Inha 100mcg (200 D) CFF      1  1.50   \n",
       "3   N85639  0304010G0  Chlorphenamine Mal_Oral Soln 2mg/5ml      1  2.62   \n",
       "4   N85639  0401020K0                      Diazepam_Tab 2mg      1  0.16   \n",
       "\n",
       "   act_cost  quantity  \n",
       "0      0.47        12  \n",
       "1      4.07        30  \n",
       "2      1.40         1  \n",
       "3      2.44       150  \n",
       "4      0.26         6  "
      ]
     },
     "execution_count": 3,
     "metadata": {},
     "output_type": "execute_result"
    }
   ],
   "source": [
    "# load the 2017 data\n",
    "scripts = pd.read_csv(\"./dw-data/201701scripts_sample.csv.gz\", compression = 'gzip')\n",
    "scripts.head()"
   ]
  },
  {
   "cell_type": "code",
   "execution_count": 4,
   "metadata": {
    "hidden": true
   },
   "outputs": [
    {
     "data": {
      "text/html": [
       "<div>\n",
       "<style scoped>\n",
       "    .dataframe tbody tr th:only-of-type {\n",
       "        vertical-align: middle;\n",
       "    }\n",
       "\n",
       "    .dataframe tbody tr th {\n",
       "        vertical-align: top;\n",
       "    }\n",
       "\n",
       "    .dataframe thead th {\n",
       "        text-align: right;\n",
       "    }\n",
       "</style>\n",
       "<table border=\"1\" class=\"dataframe\">\n",
       "  <thead>\n",
       "    <tr style=\"text-align: right;\">\n",
       "      <th></th>\n",
       "      <th>code</th>\n",
       "      <th>name</th>\n",
       "      <th>addr_1</th>\n",
       "      <th>addr_2</th>\n",
       "      <th>borough</th>\n",
       "      <th>village</th>\n",
       "      <th>post_code</th>\n",
       "    </tr>\n",
       "  </thead>\n",
       "  <tbody>\n",
       "    <tr>\n",
       "      <th>0</th>\n",
       "      <td>A81001</td>\n",
       "      <td>THE DENSHAM SURGERY</td>\n",
       "      <td>THE HEALTH CENTRE</td>\n",
       "      <td>LAWSON STREET</td>\n",
       "      <td>STOCKTON ON TEES</td>\n",
       "      <td>CLEVELAND</td>\n",
       "      <td>TS18 1HU</td>\n",
       "    </tr>\n",
       "    <tr>\n",
       "      <th>1</th>\n",
       "      <td>A81002</td>\n",
       "      <td>QUEENS PARK MEDICAL CENTRE</td>\n",
       "      <td>QUEENS PARK MEDICAL CTR</td>\n",
       "      <td>FARRER STREET</td>\n",
       "      <td>STOCKTON ON TEES</td>\n",
       "      <td>CLEVELAND</td>\n",
       "      <td>TS18 2AW</td>\n",
       "    </tr>\n",
       "    <tr>\n",
       "      <th>2</th>\n",
       "      <td>A81003</td>\n",
       "      <td>VICTORIA MEDICAL PRACTICE</td>\n",
       "      <td>THE HEALTH CENTRE</td>\n",
       "      <td>VICTORIA ROAD</td>\n",
       "      <td>HARTLEPOOL</td>\n",
       "      <td>CLEVELAND</td>\n",
       "      <td>TS26 8DB</td>\n",
       "    </tr>\n",
       "    <tr>\n",
       "      <th>3</th>\n",
       "      <td>A81004</td>\n",
       "      <td>WOODLANDS ROAD SURGERY</td>\n",
       "      <td>6 WOODLANDS ROAD</td>\n",
       "      <td>NaN</td>\n",
       "      <td>MIDDLESBROUGH</td>\n",
       "      <td>CLEVELAND</td>\n",
       "      <td>TS1 3BE</td>\n",
       "    </tr>\n",
       "    <tr>\n",
       "      <th>4</th>\n",
       "      <td>A81005</td>\n",
       "      <td>SPRINGWOOD SURGERY</td>\n",
       "      <td>SPRINGWOOD SURGERY</td>\n",
       "      <td>RECTORY LANE</td>\n",
       "      <td>GUISBOROUGH</td>\n",
       "      <td>NaN</td>\n",
       "      <td>TS14 7DJ</td>\n",
       "    </tr>\n",
       "  </tbody>\n",
       "</table>\n",
       "</div>"
      ],
      "text/plain": [
       "     code                        name                   addr_1         addr_2  \\\n",
       "0  A81001         THE DENSHAM SURGERY        THE HEALTH CENTRE  LAWSON STREET   \n",
       "1  A81002  QUEENS PARK MEDICAL CENTRE  QUEENS PARK MEDICAL CTR  FARRER STREET   \n",
       "2  A81003   VICTORIA MEDICAL PRACTICE        THE HEALTH CENTRE  VICTORIA ROAD   \n",
       "3  A81004      WOODLANDS ROAD SURGERY         6 WOODLANDS ROAD            NaN   \n",
       "4  A81005          SPRINGWOOD SURGERY       SPRINGWOOD SURGERY   RECTORY LANE   \n",
       "\n",
       "            borough    village post_code  \n",
       "0  STOCKTON ON TEES  CLEVELAND  TS18 1HU  \n",
       "1  STOCKTON ON TEES  CLEVELAND  TS18 2AW  \n",
       "2        HARTLEPOOL  CLEVELAND  TS26 8DB  \n",
       "3     MIDDLESBROUGH  CLEVELAND   TS1 3BE  \n",
       "4       GUISBOROUGH        NaN  TS14 7DJ  "
      ]
     },
     "execution_count": 4,
     "metadata": {},
     "output_type": "execute_result"
    }
   ],
   "source": [
    "col_names = [ 'code', 'name', 'addr_1', 'addr_2', 'borough', 'village', 'post_code']\n",
    "practices = pd.read_csv(\"./dw-data/practices.csv.gz\", names = col_names, compression = 'gzip')\n",
    "practices.head()"
   ]
  },
  {
   "cell_type": "code",
   "execution_count": 21,
   "metadata": {
    "hidden": true
   },
   "outputs": [
    {
     "data": {
      "text/html": [
       "<div>\n",
       "<style scoped>\n",
       "    .dataframe tbody tr th:only-of-type {\n",
       "        vertical-align: middle;\n",
       "    }\n",
       "\n",
       "    .dataframe tbody tr th {\n",
       "        vertical-align: top;\n",
       "    }\n",
       "\n",
       "    .dataframe thead th {\n",
       "        text-align: right;\n",
       "    }\n",
       "</style>\n",
       "<table border=\"1\" class=\"dataframe\">\n",
       "  <thead>\n",
       "    <tr style=\"text-align: right;\">\n",
       "      <th></th>\n",
       "      <th>CHEM SUB</th>\n",
       "      <th>NAME</th>\n",
       "    </tr>\n",
       "  </thead>\n",
       "  <tbody>\n",
       "    <tr>\n",
       "      <th>0</th>\n",
       "      <td>0101010A0</td>\n",
       "      <td>Alexitol Sodium</td>\n",
       "    </tr>\n",
       "    <tr>\n",
       "      <th>1</th>\n",
       "      <td>0101010B0</td>\n",
       "      <td>Almasilate</td>\n",
       "    </tr>\n",
       "    <tr>\n",
       "      <th>2</th>\n",
       "      <td>0101010C0</td>\n",
       "      <td>Aluminium Hydroxide</td>\n",
       "    </tr>\n",
       "    <tr>\n",
       "      <th>3</th>\n",
       "      <td>0101010D0</td>\n",
       "      <td>Aluminium Hydroxide With Magnesium</td>\n",
       "    </tr>\n",
       "    <tr>\n",
       "      <th>4</th>\n",
       "      <td>0101010E0</td>\n",
       "      <td>Hydrotalcite</td>\n",
       "    </tr>\n",
       "  </tbody>\n",
       "</table>\n",
       "</div>"
      ],
      "text/plain": [
       "    CHEM SUB                                NAME\n",
       "0  0101010A0                     Alexitol Sodium\n",
       "1  0101010B0                          Almasilate\n",
       "2  0101010C0                 Aluminium Hydroxide\n",
       "3  0101010D0  Aluminium Hydroxide With Magnesium\n",
       "4  0101010E0                        Hydrotalcite"
      ]
     },
     "execution_count": 21,
     "metadata": {},
     "output_type": "execute_result"
    }
   ],
   "source": [
    "chem = pd.read_csv(\"./dw-data/chem.csv.gz\", compression = 'gzip')\n",
    "chem.head()"
   ]
  },
  {
   "cell_type": "markdown",
   "metadata": {
    "heading_collapsed": true
   },
   "source": [
    "## Summary statistics"
   ]
  },
  {
   "cell_type": "code",
   "execution_count": 5,
   "metadata": {
    "hidden": true
   },
   "outputs": [
    {
     "data": {
      "text/html": [
       "<div>\n",
       "<style scoped>\n",
       "    .dataframe tbody tr th:only-of-type {\n",
       "        vertical-align: middle;\n",
       "    }\n",
       "\n",
       "    .dataframe tbody tr th {\n",
       "        vertical-align: top;\n",
       "    }\n",
       "\n",
       "    .dataframe thead th {\n",
       "        text-align: right;\n",
       "    }\n",
       "</style>\n",
       "<table border=\"1\" class=\"dataframe\">\n",
       "  <thead>\n",
       "    <tr style=\"text-align: right;\">\n",
       "      <th></th>\n",
       "      <th>items</th>\n",
       "      <th>nic</th>\n",
       "      <th>act_cost</th>\n",
       "      <th>quantity</th>\n",
       "    </tr>\n",
       "  </thead>\n",
       "  <tbody>\n",
       "    <tr>\n",
       "      <th>count</th>\n",
       "      <td>973193.000000</td>\n",
       "      <td>973193.000000</td>\n",
       "      <td>973193.000000</td>\n",
       "      <td>973193.000000</td>\n",
       "    </tr>\n",
       "    <tr>\n",
       "      <th>mean</th>\n",
       "      <td>9.133136</td>\n",
       "      <td>73.058915</td>\n",
       "      <td>67.986613</td>\n",
       "      <td>741.329835</td>\n",
       "    </tr>\n",
       "    <tr>\n",
       "      <th>std</th>\n",
       "      <td>29.204198</td>\n",
       "      <td>188.070257</td>\n",
       "      <td>174.401703</td>\n",
       "      <td>3665.426958</td>\n",
       "    </tr>\n",
       "    <tr>\n",
       "      <th>min</th>\n",
       "      <td>1.000000</td>\n",
       "      <td>0.000000</td>\n",
       "      <td>0.040000</td>\n",
       "      <td>0.000000</td>\n",
       "    </tr>\n",
       "    <tr>\n",
       "      <th>25%</th>\n",
       "      <td>1.000000</td>\n",
       "      <td>7.800000</td>\n",
       "      <td>7.330000</td>\n",
       "      <td>28.000000</td>\n",
       "    </tr>\n",
       "    <tr>\n",
       "      <th>50%</th>\n",
       "      <td>2.000000</td>\n",
       "      <td>22.640000</td>\n",
       "      <td>21.220000</td>\n",
       "      <td>100.000000</td>\n",
       "    </tr>\n",
       "    <tr>\n",
       "      <th>75%</th>\n",
       "      <td>6.000000</td>\n",
       "      <td>65.000000</td>\n",
       "      <td>60.670000</td>\n",
       "      <td>350.000000</td>\n",
       "    </tr>\n",
       "    <tr>\n",
       "      <th>max</th>\n",
       "      <td>2384.000000</td>\n",
       "      <td>16320.000000</td>\n",
       "      <td>15108.320000</td>\n",
       "      <td>577720.000000</td>\n",
       "    </tr>\n",
       "  </tbody>\n",
       "</table>\n",
       "</div>"
      ],
      "text/plain": [
       "               items            nic       act_cost       quantity\n",
       "count  973193.000000  973193.000000  973193.000000  973193.000000\n",
       "mean        9.133136      73.058915      67.986613     741.329835\n",
       "std        29.204198     188.070257     174.401703    3665.426958\n",
       "min         1.000000       0.000000       0.040000       0.000000\n",
       "25%         1.000000       7.800000       7.330000      28.000000\n",
       "50%         2.000000      22.640000      21.220000     100.000000\n",
       "75%         6.000000      65.000000      60.670000     350.000000\n",
       "max      2384.000000   16320.000000   15108.320000  577720.000000"
      ]
     },
     "execution_count": 5,
     "metadata": {},
     "output_type": "execute_result"
    }
   ],
   "source": [
    "scripts.describe()"
   ]
  },
  {
   "cell_type": "code",
   "execution_count": 6,
   "metadata": {
    "hidden": true
   },
   "outputs": [],
   "source": [
    "names = scripts.columns.to_list()[3:]\n",
    "stats_list = [scripts.describe()[name].to_list() for name in names]"
   ]
  },
  {
   "cell_type": "code",
   "execution_count": 7,
   "metadata": {
    "hidden": true
   },
   "outputs": [],
   "source": [
    "summary_stats = [(col, tuple([stats[0]*stats[1]] + stats[1:3] + stats[4:7])) for col, stats in zip(names, stats_list)]"
   ]
  },
  {
   "cell_type": "code",
   "execution_count": 8,
   "metadata": {
    "hidden": true
   },
   "outputs": [
    {
     "data": {
      "text/plain": [
       "[('items', (8888304.0, 9.133135976111625, 29.20419828297713, 1.0, 2.0, 6.0)),\n",
       " ('nic',\n",
       "  (71100424.84000827,\n",
       "   73.05891517921756,\n",
       "   188.07025690683025,\n",
       "   7.8,\n",
       "   22.64,\n",
       "   65.0)),\n",
       " ('act_cost',\n",
       "  (66164096.11999956,\n",
       "   67.98661326170611,\n",
       "   174.40170332300627,\n",
       "   7.33,\n",
       "   21.22,\n",
       "   60.67)),\n",
       " ('quantity',\n",
       "  (721457006.0, 741.3298348837282, 3665.426958468499, 28.0, 100.0, 350.0))]"
      ]
     },
     "execution_count": 8,
     "metadata": {},
     "output_type": "execute_result"
    }
   ],
   "source": [
    "summary_stats"
   ]
  },
  {
   "cell_type": "markdown",
   "metadata": {
    "heading_collapsed": true
   },
   "source": [
    "## Finding the most common item\n"
   ]
  },
  {
   "cell_type": "code",
   "execution_count": 9,
   "metadata": {
    "hidden": true
   },
   "outputs": [
    {
     "name": "stderr",
     "output_type": "stream",
     "text": [
      "/tmp/ipykernel_52763/1901049707.py:1: FutureWarning: Indexing with multiple keys (implicitly converted to a tuple of keys) will be deprecated, use a list instead.\n",
      "  bnf_items = scripts.groupby('bnf_name')['bnf_name', 'items'].sum()\n"
     ]
    }
   ],
   "source": [
    "bnf_items = scripts.groupby('bnf_name')['bnf_name', 'items'].sum()\n",
    "most_common_item = [tuple(bnf_items.sort_values(by='items', ascending=False).reset_index().iloc[0])]"
   ]
  },
  {
   "cell_type": "code",
   "execution_count": 10,
   "metadata": {
    "hidden": true
   },
   "outputs": [
    {
     "data": {
      "text/plain": [
       "[('Omeprazole_Cap E/C 20mg', 218583)]"
      ]
     },
     "execution_count": 10,
     "metadata": {},
     "output_type": "execute_result"
    }
   ],
   "source": [
    "most_common_item"
   ]
  },
  {
   "cell_type": "markdown",
   "metadata": {
    "heading_collapsed": true
   },
   "source": [
    "## Classigying items by region\n",
    "\n",
    "Now let's find the most common item by post code. The post code information is in the `practices` DataFrame, and we'll need to `merge` it into the `scripts` DataFrame."
   ]
  },
  {
   "cell_type": "code",
   "execution_count": 11,
   "metadata": {
    "hidden": true
   },
   "outputs": [
    {
     "data": {
      "text/html": [
       "<div>\n",
       "<style scoped>\n",
       "    .dataframe tbody tr th:only-of-type {\n",
       "        vertical-align: middle;\n",
       "    }\n",
       "\n",
       "    .dataframe tbody tr th {\n",
       "        vertical-align: top;\n",
       "    }\n",
       "\n",
       "    .dataframe thead tr th {\n",
       "        text-align: left;\n",
       "    }\n",
       "\n",
       "    .dataframe thead tr:last-of-type th {\n",
       "        text-align: right;\n",
       "    }\n",
       "</style>\n",
       "<table border=\"1\" class=\"dataframe\">\n",
       "  <thead>\n",
       "    <tr>\n",
       "      <th></th>\n",
       "      <th colspan=\"2\" halign=\"left\">post_code</th>\n",
       "    </tr>\n",
       "    <tr>\n",
       "      <th></th>\n",
       "      <th>list</th>\n",
       "      <th>count</th>\n",
       "    </tr>\n",
       "    <tr>\n",
       "      <th>code</th>\n",
       "      <th></th>\n",
       "      <th></th>\n",
       "    </tr>\n",
       "  </thead>\n",
       "  <tbody>\n",
       "    <tr>\n",
       "      <th>Y04804</th>\n",
       "      <td>[TR15 3ER, TR15 3ER, TR15 3ER, TR15 3ER]</td>\n",
       "      <td>4</td>\n",
       "    </tr>\n",
       "    <tr>\n",
       "      <th>F81223</th>\n",
       "      <td>[SS9 5UU, SS9 5UU, SS9 5UU, SS9 5UU]</td>\n",
       "      <td>4</td>\n",
       "    </tr>\n",
       "    <tr>\n",
       "      <th>J82024</th>\n",
       "      <td>[SO14 0YG, SO14 0YG, SO16 4XE, SO16 4XE]</td>\n",
       "      <td>4</td>\n",
       "    </tr>\n",
       "    <tr>\n",
       "      <th>D81631</th>\n",
       "      <td>[PE1 3BF, PE1 3BF, PE1 3BF, PE1 3BF]</td>\n",
       "      <td>4</td>\n",
       "    </tr>\n",
       "    <tr>\n",
       "      <th>B85060</th>\n",
       "      <td>[HD1 5PX, HD1 5PX, HD1 5PX, HD1 5PX]</td>\n",
       "      <td>4</td>\n",
       "    </tr>\n",
       "    <tr>\n",
       "      <th>Y04108</th>\n",
       "      <td>[SW19 1RH, SW1E 6QP, SW1E 6QP, SW6 4UL]</td>\n",
       "      <td>4</td>\n",
       "    </tr>\n",
       "  </tbody>\n",
       "</table>\n",
       "</div>"
      ],
      "text/plain": [
       "                                       post_code      \n",
       "                                            list count\n",
       "code                                                  \n",
       "Y04804  [TR15 3ER, TR15 3ER, TR15 3ER, TR15 3ER]     4\n",
       "F81223      [SS9 5UU, SS9 5UU, SS9 5UU, SS9 5UU]     4\n",
       "J82024  [SO14 0YG, SO14 0YG, SO16 4XE, SO16 4XE]     4\n",
       "D81631      [PE1 3BF, PE1 3BF, PE1 3BF, PE1 3BF]     4\n",
       "B85060      [HD1 5PX, HD1 5PX, HD1 5PX, HD1 5PX]     4\n",
       "Y04108   [SW19 1RH, SW1E 6QP, SW1E 6QP, SW6 4UL]     4"
      ]
     },
     "execution_count": 11,
     "metadata": {},
     "output_type": "execute_result"
    }
   ],
   "source": [
    "post_codes_per_practice = practices.groupby('code').agg({'post_code': [list, 'count']}).sort_values(by = ('post_code', 'count'), ascending=False)\n",
    "post_codes_per_practice.head(6)"
   ]
  },
  {
   "cell_type": "code",
   "execution_count": 12,
   "metadata": {
    "hidden": true
   },
   "outputs": [
    {
     "data": {
      "text/html": [
       "<div>\n",
       "<style scoped>\n",
       "    .dataframe tbody tr th:only-of-type {\n",
       "        vertical-align: middle;\n",
       "    }\n",
       "\n",
       "    .dataframe tbody tr th {\n",
       "        vertical-align: top;\n",
       "    }\n",
       "\n",
       "    .dataframe thead th {\n",
       "        text-align: right;\n",
       "    }\n",
       "</style>\n",
       "<table border=\"1\" class=\"dataframe\">\n",
       "  <thead>\n",
       "    <tr style=\"text-align: right;\">\n",
       "      <th></th>\n",
       "      <th>post_code</th>\n",
       "    </tr>\n",
       "    <tr>\n",
       "      <th>code</th>\n",
       "      <th></th>\n",
       "    </tr>\n",
       "  </thead>\n",
       "  <tbody>\n",
       "    <tr>\n",
       "      <th>Y04804</th>\n",
       "      <td>TR15 3ER</td>\n",
       "    </tr>\n",
       "    <tr>\n",
       "      <th>F81223</th>\n",
       "      <td>SS9 5UU</td>\n",
       "    </tr>\n",
       "    <tr>\n",
       "      <th>J82024</th>\n",
       "      <td>SO14 0YG</td>\n",
       "    </tr>\n",
       "    <tr>\n",
       "      <th>D81631</th>\n",
       "      <td>PE1 3BF</td>\n",
       "    </tr>\n",
       "    <tr>\n",
       "      <th>B85060</th>\n",
       "      <td>HD1 5PX</td>\n",
       "    </tr>\n",
       "  </tbody>\n",
       "</table>\n",
       "</div>"
      ],
      "text/plain": [
       "       post_code\n",
       "code            \n",
       "Y04804  TR15 3ER\n",
       "F81223   SS9 5UU\n",
       "J82024  SO14 0YG\n",
       "D81631   PE1 3BF\n",
       "B85060   HD1 5PX"
      ]
     },
     "execution_count": 12,
     "metadata": {},
     "output_type": "execute_result"
    }
   ],
   "source": [
    "first_post_per_practice = pd.DataFrame(post_codes_per_practice[('post_code', 'list')].apply(lambda row : sorted(row)[0]).rename('post_code'))\n",
    "first_post_per_practice.head()"
   ]
  },
  {
   "cell_type": "code",
   "execution_count": 13,
   "metadata": {
    "hidden": true
   },
   "outputs": [
    {
     "data": {
      "text/html": [
       "<div>\n",
       "<style scoped>\n",
       "    .dataframe tbody tr th:only-of-type {\n",
       "        vertical-align: middle;\n",
       "    }\n",
       "\n",
       "    .dataframe tbody tr th {\n",
       "        vertical-align: top;\n",
       "    }\n",
       "\n",
       "    .dataframe thead th {\n",
       "        text-align: right;\n",
       "    }\n",
       "</style>\n",
       "<table border=\"1\" class=\"dataframe\">\n",
       "  <thead>\n",
       "    <tr style=\"text-align: right;\">\n",
       "      <th></th>\n",
       "      <th>practice</th>\n",
       "      <th>bnf_name</th>\n",
       "      <th>items</th>\n",
       "      <th>post_code</th>\n",
       "    </tr>\n",
       "  </thead>\n",
       "  <tbody>\n",
       "    <tr>\n",
       "      <th>0</th>\n",
       "      <td>N85639</td>\n",
       "      <td>Bisacodyl_Tab E/C 5mg</td>\n",
       "      <td>1</td>\n",
       "      <td>CH44 5UF</td>\n",
       "    </tr>\n",
       "    <tr>\n",
       "      <th>1</th>\n",
       "      <td>N85639</td>\n",
       "      <td>Movicol Plain_Paed Pdr Sach 6.9g</td>\n",
       "      <td>1</td>\n",
       "      <td>CH44 5UF</td>\n",
       "    </tr>\n",
       "    <tr>\n",
       "      <th>2</th>\n",
       "      <td>N85639</td>\n",
       "      <td>Salbutamol_Inha 100mcg (200 D) CFF</td>\n",
       "      <td>1</td>\n",
       "      <td>CH44 5UF</td>\n",
       "    </tr>\n",
       "    <tr>\n",
       "      <th>3</th>\n",
       "      <td>N85639</td>\n",
       "      <td>Chlorphenamine Mal_Oral Soln 2mg/5ml</td>\n",
       "      <td>1</td>\n",
       "      <td>CH44 5UF</td>\n",
       "    </tr>\n",
       "    <tr>\n",
       "      <th>4</th>\n",
       "      <td>N85639</td>\n",
       "      <td>Diazepam_Tab 2mg</td>\n",
       "      <td>1</td>\n",
       "      <td>CH44 5UF</td>\n",
       "    </tr>\n",
       "  </tbody>\n",
       "</table>\n",
       "</div>"
      ],
      "text/plain": [
       "  practice                              bnf_name  items post_code\n",
       "0   N85639                 Bisacodyl_Tab E/C 5mg      1  CH44 5UF\n",
       "1   N85639      Movicol Plain_Paed Pdr Sach 6.9g      1  CH44 5UF\n",
       "2   N85639    Salbutamol_Inha 100mcg (200 D) CFF      1  CH44 5UF\n",
       "3   N85639  Chlorphenamine Mal_Oral Soln 2mg/5ml      1  CH44 5UF\n",
       "4   N85639                      Diazepam_Tab 2mg      1  CH44 5UF"
      ]
     },
     "execution_count": 13,
     "metadata": {},
     "output_type": "execute_result"
    }
   ],
   "source": [
    "joined = pd.merge(scripts, first_post_per_practice, left_on='practice', right_on='code')[['practice', 'bnf_name', 'items', 'post_code']]\n",
    "joined.head()"
   ]
  },
  {
   "cell_type": "code",
   "execution_count": 14,
   "metadata": {
    "hidden": true
   },
   "outputs": [
    {
     "data": {
      "text/html": [
       "<div>\n",
       "<style scoped>\n",
       "    .dataframe tbody tr th:only-of-type {\n",
       "        vertical-align: middle;\n",
       "    }\n",
       "\n",
       "    .dataframe tbody tr th {\n",
       "        vertical-align: top;\n",
       "    }\n",
       "\n",
       "    .dataframe thead th {\n",
       "        text-align: right;\n",
       "    }\n",
       "</style>\n",
       "<table border=\"1\" class=\"dataframe\">\n",
       "  <thead>\n",
       "    <tr style=\"text-align: right;\">\n",
       "      <th></th>\n",
       "      <th>bnf_name</th>\n",
       "      <th>items</th>\n",
       "    </tr>\n",
       "    <tr>\n",
       "      <th>post_code</th>\n",
       "      <th></th>\n",
       "      <th></th>\n",
       "    </tr>\n",
       "  </thead>\n",
       "  <tbody>\n",
       "    <tr>\n",
       "      <th>B11 4BW</th>\n",
       "      <td>[Salbutamol_Inha 100mcg (200 D) CFF, Paracet_T...</td>\n",
       "      <td>[706, 451, 387, 385, 350, 283, 249, 224, 211, ...</td>\n",
       "    </tr>\n",
       "    <tr>\n",
       "      <th>B12 9LP</th>\n",
       "      <td>[Paracet_Tab 500mg, Lansoprazole_Cap 30mg (E/C...</td>\n",
       "      <td>[425, 379, 366, 339, 261, 216, 212, 202, 201, ...</td>\n",
       "    </tr>\n",
       "    <tr>\n",
       "      <th>B18 7AL</th>\n",
       "      <td>[Salbutamol_Inha 100mcg (200 D) CFF, Metformin...</td>\n",
       "      <td>[556, 421, 416, 404, 348, 302, 268, 256, 242, ...</td>\n",
       "    </tr>\n",
       "    <tr>\n",
       "      <th>B21 9RY</th>\n",
       "      <td>[Metformin HCl_Tab 500mg, Salbutamol_Inha 100m...</td>\n",
       "      <td>[1033, 706, 675, 642, 596, 560, 515, 507, 430,...</td>\n",
       "    </tr>\n",
       "    <tr>\n",
       "      <th>B23 6DJ</th>\n",
       "      <td>[Lansoprazole_Cap 30mg (E/C Gran), Aspirin Dis...</td>\n",
       "      <td>[599, 449, 434, 415, 368, 360, 340, 337, 263, ...</td>\n",
       "    </tr>\n",
       "  </tbody>\n",
       "</table>\n",
       "</div>"
      ],
      "text/plain": [
       "                                                    bnf_name  \\\n",
       "post_code                                                      \n",
       "B11 4BW    [Salbutamol_Inha 100mcg (200 D) CFF, Paracet_T...   \n",
       "B12 9LP    [Paracet_Tab 500mg, Lansoprazole_Cap 30mg (E/C...   \n",
       "B18 7AL    [Salbutamol_Inha 100mcg (200 D) CFF, Metformin...   \n",
       "B21 9RY    [Metformin HCl_Tab 500mg, Salbutamol_Inha 100m...   \n",
       "B23 6DJ    [Lansoprazole_Cap 30mg (E/C Gran), Aspirin Dis...   \n",
       "\n",
       "                                                       items  \n",
       "post_code                                                     \n",
       "B11 4BW    [706, 451, 387, 385, 350, 283, 249, 224, 211, ...  \n",
       "B12 9LP    [425, 379, 366, 339, 261, 216, 212, 202, 201, ...  \n",
       "B18 7AL    [556, 421, 416, 404, 348, 302, 268, 256, 242, ...  \n",
       "B21 9RY    [1033, 706, 675, 642, 596, 560, 515, 507, 430,...  \n",
       "B23 6DJ    [599, 449, 434, 415, 368, 360, 340, 337, 263, ...  "
      ]
     },
     "execution_count": 14,
     "metadata": {},
     "output_type": "execute_result"
    }
   ],
   "source": [
    "items_per_post = joined.groupby(['post_code','bnf_name']).sum().sort_values(by='items', ascending=False).reset_index()\n",
    "items_per_post = items_per_post.groupby('post_code').agg({'bnf_name': list, 'items':list})\n",
    "items_per_post.head()"
   ]
  },
  {
   "cell_type": "code",
   "execution_count": 15,
   "metadata": {
    "hidden": true
   },
   "outputs": [
    {
     "data": {
      "text/plain": [
       "0    (B11 4BW, Salbutamol_Inha 100mcg (200 D) CFF, ...\n",
       "1    (B12 9LP, Paracet_Tab 500mg, 0.02489310607391788)\n",
       "2    (B18 7AL, Salbutamol_Inha 100mcg (200 D) CFF, ...\n",
       "3    (B21 9RY, Metformin HCl_Tab 500mg, 0.033293583...\n",
       "4    (B23 6DJ, Lansoprazole_Cap 30mg (E/C Gran), 0....\n",
       "dtype: object"
      ]
     },
     "execution_count": 15,
     "metadata": {},
     "output_type": "execute_result"
    }
   ],
   "source": [
    "most_common_per_post = items_per_post.reset_index()[['post_code','bnf_name','items']].apply(lambda row : (row[0], row[1][0], row[2][0]/sum(row[2])), axis=1)\n",
    "most_common_per_post.head()"
   ]
  },
  {
   "cell_type": "code",
   "execution_count": 16,
   "metadata": {
    "hidden": true
   },
   "outputs": [],
   "source": [
    "items_by_region = most_common_per_post.to_list()[:100]"
   ]
  },
  {
   "cell_type": "code",
   "execution_count": 17,
   "metadata": {
    "hidden": true,
    "scrolled": true
   },
   "outputs": [
    {
     "data": {
      "text/plain": [
       "[('B11 4BW', 'Salbutamol_Inha 100mcg (200 D) CFF', 0.031058906339360346),\n",
       " ('B12 9LP', 'Paracet_Tab 500mg', 0.02489310607391788),\n",
       " ('B18 7AL', 'Salbutamol_Inha 100mcg (200 D) CFF', 0.027111371172225472),\n",
       " ('B21 9RY', 'Metformin HCl_Tab 500mg', 0.03329358300834757),\n",
       " ('B23 6DJ', 'Lansoprazole_Cap 30mg (E/C Gran)', 0.021384456106529576),\n",
       " ('B61 0AZ', 'Omeprazole_Cap E/C 20mg', 0.028713318284424378),\n",
       " ('B70 7AW', 'Paracet_Tab 500mg', 0.025135992162726547),\n",
       " ('B72 1RL', 'Omeprazole_Cap E/C 20mg', 0.020228765092141495),\n",
       " ('B8 1RZ', 'Metformin HCl_Tab 500mg', 0.021347750961484866),\n",
       " ('B9 5PU', 'Ventolin_Evohaler 100mcg (200 D)', 0.024826024522257815),\n",
       " ('B90 3LX', 'Omeprazole_Cap E/C 20mg', 0.026965103983080718),\n",
       " ('BA5 1XJ', 'Omeprazole_Cap E/C 20mg', 0.028261290947858113),\n",
       " ('BB11 2DL', 'Omeprazole_Cap E/C 20mg', 0.027381741821396993),\n",
       " ('BB2 1AX', 'Omeprazole_Cap E/C 20mg', 0.03428191046763188),\n",
       " ('BB3 1PY', 'Omeprazole_Cap E/C 20mg', 0.032683395995453356),\n",
       " ('BB4 5SL', 'Omeprazole_Cap E/C 20mg', 0.03747689029549087),\n",
       " ('BB4 7PL', 'Omeprazole_Cap E/C 20mg', 0.027477496877557173),\n",
       " ('BB7 2JG', 'Omeprazole_Cap E/C 20mg', 0.027980664806967485),\n",
       " ('BB8 0JZ', 'Atorvastatin_Tab 20mg', 0.021515746650768042),\n",
       " ('BB9 7SR', 'Omeprazole_Cap E/C 20mg', 0.02247662283190644),\n",
       " ('BD16 4RP', 'Lansoprazole_Cap 30mg (E/C Gran)', 0.022780283004198414),\n",
       " ('BD19 5AP', 'Lansoprazole_Cap 30mg (E/C Gran)', 0.02066220372715759),\n",
       " ('BD3 8QH', 'Atorvastatin_Tab 40mg', 0.031662850096882154),\n",
       " ('BD4 7SS', 'Atorvastatin_Tab 40mg', 0.03424183501960914),\n",
       " ('BH14 0DJ', 'Omeprazole_Cap E/C 20mg', 0.02838931332218254),\n",
       " ('BH18 8EE', 'Omeprazole_Cap E/C 20mg', 0.027092370049064923),\n",
       " ('BH23 3AF', 'Omeprazole_Cap E/C 20mg', 0.03546099290780142),\n",
       " ('BL1 3RG', 'Omeprazole_Cap E/C 20mg', 0.03362566656383588),\n",
       " ('BL1 8TU', 'Omeprazole_Cap E/C 20mg', 0.027729220222793487),\n",
       " ('BL2 6NT', 'Omeprazole_Cap E/C 20mg', 0.0271567320510379),\n",
       " ('BL3 5HP', 'Omeprazole_Cap E/C 20mg', 0.03129933420275929),\n",
       " ('BL9 0NJ', 'Omeprazole_Cap E/C 20mg', 0.032037565382786494),\n",
       " ('BL9 0SN', 'Omeprazole_Cap E/C 20mg', 0.03090454288711369),\n",
       " ('BN1 6AG', 'Lansoprazole_Cap 15mg (E/C Gran)', 0.021755523716160168),\n",
       " ('BN1 8DD', 'Aspirin Disper_Tab 75mg', 0.021517850460294887),\n",
       " ('BN9 9PW', 'Omeprazole_Cap E/C 20mg', 0.01855317763853853),\n",
       " ('BR2 9GT', 'Influenza_Vac Inact 0.5ml Pfs', 0.04301700334253742),\n",
       " ('BR3 3FD', 'Omeprazole_Cap E/C 20mg', 0.02865911645197545),\n",
       " ('BS16 3TD', 'Omeprazole_Cap E/C 20mg', 0.03752737892431249),\n",
       " ('BS23 3HQ', 'Omeprazole_Cap E/C 20mg', 0.030246216399367518),\n",
       " ('BS4 1WH', 'Omeprazole_Cap E/C 20mg', 0.029600778967867575),\n",
       " ('BS4 4HU', 'Omeprazole_Cap E/C 20mg', 0.037361354349095155),\n",
       " ('BS48 2XX', 'Omeprazole_Cap E/C 20mg', 0.030207346595095254),\n",
       " ('CA11 8HW', 'Omeprazole_Cap E/C 20mg', 0.027868623340321454),\n",
       " ('CB22 3HU', 'Omeprazole_Cap E/C 20mg', 0.038775726713346066),\n",
       " ('CB9 8HF', 'Omeprazole_Cap E/C 20mg', 0.03391110538046382),\n",
       " ('CH1 4DS', 'Lansoprazole_Cap 30mg (E/C Gran)', 0.0257736189772634),\n",
       " ('CH41 8DB', 'Omeprazole_Cap E/C 20mg', 0.03327732469980738),\n",
       " ('CH44 5UF', 'Omeprazole_Cap E/C 20mg', 0.03327334826839032),\n",
       " ('CH62 5HS', 'Omeprazole_Cap E/C 20mg', 0.037778835690968446),\n",
       " ('CH62 6EE', 'Influenza_Vac Inact 0.5ml Pfs', 0.057585894269547),\n",
       " ('CH65 6TG', 'Lansoprazole_Cap 30mg (E/C Gran)', 0.026067517902474142),\n",
       " ('CH66 3PB', 'Lansoprazole_Cap 30mg (E/C Gran)', 0.03100619319552803),\n",
       " ('CM18 6LY', 'Omeprazole_Cap E/C 20mg', 0.026445315758738635),\n",
       " ('CR0 0JA', 'Salbutamol_Inha 100mcg (200 D) CFF', 0.021571724750715768),\n",
       " ('CT11 8AD', 'Omeprazole_Cap E/C 20mg', 0.022307039864291774),\n",
       " ('CV1 4FS', 'Omeprazole_Cap E/C 20mg', 0.028455180531743392),\n",
       " ('CV12 8NQ', 'Omeprazole_Cap E/C 20mg', 0.026444799282852902),\n",
       " ('CV21 2DN', 'Omeprazole_Cap E/C 20mg', 0.04102890311294875),\n",
       " ('CV6 2FL', 'Omeprazole_Cap E/C 20mg', 0.036250663502669624),\n",
       " ('CV6 6DR', 'Omeprazole_Cap E/C 20mg', 0.030544721504009817),\n",
       " ('CW1 3AW', 'Omeprazole_Cap E/C 20mg', 0.03558258199497268),\n",
       " ('CW5 5NX', 'Omeprazole_Cap E/C 20mg', 0.03453647138997736),\n",
       " ('CW7 1AT', 'Omeprazole_Cap E/C 20mg', 0.03666371289322109),\n",
       " ('DA1 2HA', 'Omeprazole_Cap E/C 20mg', 0.019244977658938185),\n",
       " ('DA11 8BZ', 'Amoxicillin_Cap 500mg', 0.019686834904226208),\n",
       " ('DN16 2AB', 'Amlodipine_Tab 5mg', 0.019925280199252802),\n",
       " ('DN22 7XF', 'Simvastatin_Tab 40mg', 0.018624361621210474),\n",
       " ('DN31 3AE', 'Omeprazole_Cap E/C 20mg', 0.03432952436761402),\n",
       " ('DN34 4GB', 'Omeprazole_Cap E/C 20mg', 0.03709507845509909),\n",
       " ('DN6 0HZ', 'Paracet_Tab 500mg', 0.025764099668243102),\n",
       " ('DN8 4BQ', 'Lansoprazole_Cap 30mg (E/C Gran)', 0.021703061442945835),\n",
       " ('DY11 6SF', 'Omeprazole_Cap E/C 20mg', 0.021081859317153433),\n",
       " ('E15 4ES', 'Amlodipine_Tab 10mg', 0.02569068641412703),\n",
       " ('E7 0EP', 'Metformin HCl_Tab 500mg', 0.037244933982913224),\n",
       " ('FY2 0JG', 'Omeprazole_Cap E/C 20mg', 0.03627638093657511),\n",
       " ('FY4 1TJ', 'Omeprazole_Cap E/C 20mg', 0.04334478808705613),\n",
       " ('FY5 2TZ', 'Omeprazole_Cap E/C 20mg', 0.03540407051009112),\n",
       " ('FY5 3LF', 'Omeprazole_Cap E/C 20mg', 0.035122866094073016),\n",
       " ('FY7 8GU', 'Omeprazole_Cap E/C 20mg', 0.032058079778122195),\n",
       " ('FY8 5DZ', 'Omeprazole_Cap E/C 20mg', 0.02969960416717259),\n",
       " ('GL1 3PX', 'Omeprazole_Cap E/C 20mg', 0.025687801991914012),\n",
       " ('GL20 5GJ', 'Omeprazole_Cap E/C 20mg', 0.02412690753362688),\n",
       " ('GL50 4DP', 'Omeprazole_Cap E/C 20mg', 0.024009042366605605),\n",
       " ('GU9 9QS', 'Omeprazole_Cap E/C 20mg', 0.027052485943893322),\n",
       " ('HA0 4UZ', 'Metformin HCl_Tab 500mg', 0.027855843941147297),\n",
       " ('HA3 7LT', 'Omeprazole_Cap E/C 20mg', 0.02504635488712953),\n",
       " ('HD6 1AT', 'Lansoprazole_Cap 30mg (E/C Gran)', 0.021017471736896196),\n",
       " ('HG1 5AR', 'Omeprazole_Cap E/C 20mg', 0.02842489568845619),\n",
       " ('HR1 2JB', 'Omeprazole_Cap E/C 20mg', 0.028529603122966818),\n",
       " ('HR6 8HD', 'Omeprazole_Cap E/C 20mg', 0.027207967812149594),\n",
       " ('HU7 4DW', 'Salbutamol_Inha 100mcg (200 D) CFF', 0.025607843137254904),\n",
       " ('HU9 2LJ', 'Lansoprazole_Cap 30mg (E/C Gran)', 0.0243192109011288),\n",
       " ('IG7 4DF', 'Amlodipine_Tab 5mg', 0.01956475808155504),\n",
       " ('IP22 4WG', 'Omeprazole_Cap E/C 20mg', 0.02851095218241878),\n",
       " ('KT12 3LB', 'Omeprazole_Cap E/C 20mg', 0.01828471919895516),\n",
       " ('KT14 6DH', 'Amlodipine_Tab 5mg', 0.018667887710894296),\n",
       " ('KT16 8HZ', 'Amlodipine_Tab 5mg', 0.019319714781268066),\n",
       " ('KT6 6EZ', 'Omeprazole_Cap E/C 20mg', 0.02821316614420063),\n",
       " ('L31 0DJ', 'Omeprazole_Cap E/C 20mg', 0.029425653739448675)]"
      ]
     },
     "execution_count": 17,
     "metadata": {},
     "output_type": "execute_result"
    }
   ],
   "source": [
    "items_by_region"
   ]
  },
  {
   "cell_type": "code",
   "execution_count": 18,
   "metadata": {
    "hidden": true
   },
   "outputs": [],
   "source": [
    "#most_common_post = joined.groupby(['post_code','bnf_name']).sum().sort_values(by='items', ascending=False).reset_index().groupby('post_code').head(1)\n",
    "\n",
    "#most_common_post = most_common_post.set_index('post_code').sort_index()\n",
    "\n",
    "#total_items = joined.groupby('post_code').sum()\n",
    "\n",
    "#most_common_post[['proportion_per_post']] = most_common_post[['items']]/total_items\n",
    "\n",
    "#items_by_region = list([(index, row['bnf_name'], row['proportion_per_post']) for index, row in most_common_post.iterrows()])[:00]"
   ]
  },
  {
   "cell_type": "markdown",
   "metadata": {
    "heading_collapsed": true
   },
   "source": [
    "## Identifying script anomalies\n",
    "\n",
    "Drug abuse is a source of human and monetary costs in health care. A first step in identifying practitioners that enable drug abuse is to look for practices where commonly abused drugs are prescribed unusually often. Let's try to find practices that prescribe an unusually high amount of opioids. The opioids we'll look for are given in the list below."
   ]
  },
  {
   "cell_type": "code",
   "execution_count": 19,
   "metadata": {
    "hidden": true
   },
   "outputs": [],
   "source": [
    "opioids = ['morphine', 'oxycodone', 'methadone', 'fentanyl', 'pethidine', 'buprenorphine', 'propoxyphene', 'codeine']"
   ]
  },
  {
   "cell_type": "markdown",
   "metadata": {
    "hidden": true
   },
   "source": [
    "These are generic names for drugs, not brand names. Generic drug names can be found using the `'bnf_code'` field in `scripts` along with the `chem` table.. Use the list of opioids provided above along with these fields to make a new field in the `scripts` data that flags whether the row corresponds with a opioid prescription."
   ]
  },
  {
   "cell_type": "code",
   "execution_count": 22,
   "metadata": {
    "hidden": true
   },
   "outputs": [],
   "source": [
    "#Detect drug brand names that contain opioids with 'is_opioid'\n",
    "chem['is_opioid'] = chem['NAME'].str.contains('|'.join(opioids), case=False).astype(int)\n",
    "\n",
    "#Flag scripts that correspond to an opioid prescription by adding 'is_opioid' column to scripts\n",
    "scripts = pd.merge(scripts, chem, left_on='bnf_code', right_on='CHEM SUB', how='left')[scripts.columns.tolist()+['is_opioid']]\n",
    "scripts['is_opioid'] = scripts['is_opioid'].fillna(0).astype(int)"
   ]
  },
  {
   "cell_type": "code",
   "execution_count": 23,
   "metadata": {
    "hidden": true
   },
   "outputs": [
    {
     "data": {
      "text/html": [
       "<div>\n",
       "<style scoped>\n",
       "    .dataframe tbody tr th:only-of-type {\n",
       "        vertical-align: middle;\n",
       "    }\n",
       "\n",
       "    .dataframe tbody tr th {\n",
       "        vertical-align: top;\n",
       "    }\n",
       "\n",
       "    .dataframe thead th {\n",
       "        text-align: right;\n",
       "    }\n",
       "</style>\n",
       "<table border=\"1\" class=\"dataframe\">\n",
       "  <thead>\n",
       "    <tr style=\"text-align: right;\">\n",
       "      <th></th>\n",
       "      <th>practice</th>\n",
       "      <th>bnf_code</th>\n",
       "      <th>bnf_name</th>\n",
       "      <th>items</th>\n",
       "      <th>nic</th>\n",
       "      <th>act_cost</th>\n",
       "      <th>quantity</th>\n",
       "      <th>is_opioid</th>\n",
       "    </tr>\n",
       "  </thead>\n",
       "  <tbody>\n",
       "    <tr>\n",
       "      <th>0</th>\n",
       "      <td>N85639</td>\n",
       "      <td>0106020C0</td>\n",
       "      <td>Bisacodyl_Tab E/C 5mg</td>\n",
       "      <td>1</td>\n",
       "      <td>0.39</td>\n",
       "      <td>0.47</td>\n",
       "      <td>12</td>\n",
       "      <td>0</td>\n",
       "    </tr>\n",
       "    <tr>\n",
       "      <th>1</th>\n",
       "      <td>N85639</td>\n",
       "      <td>0106040M0</td>\n",
       "      <td>Movicol Plain_Paed Pdr Sach 6.9g</td>\n",
       "      <td>1</td>\n",
       "      <td>4.38</td>\n",
       "      <td>4.07</td>\n",
       "      <td>30</td>\n",
       "      <td>0</td>\n",
       "    </tr>\n",
       "    <tr>\n",
       "      <th>2</th>\n",
       "      <td>N85639</td>\n",
       "      <td>0301011R0</td>\n",
       "      <td>Salbutamol_Inha 100mcg (200 D) CFF</td>\n",
       "      <td>1</td>\n",
       "      <td>1.50</td>\n",
       "      <td>1.40</td>\n",
       "      <td>1</td>\n",
       "      <td>0</td>\n",
       "    </tr>\n",
       "    <tr>\n",
       "      <th>3</th>\n",
       "      <td>N85639</td>\n",
       "      <td>0304010G0</td>\n",
       "      <td>Chlorphenamine Mal_Oral Soln 2mg/5ml</td>\n",
       "      <td>1</td>\n",
       "      <td>2.62</td>\n",
       "      <td>2.44</td>\n",
       "      <td>150</td>\n",
       "      <td>0</td>\n",
       "    </tr>\n",
       "    <tr>\n",
       "      <th>4</th>\n",
       "      <td>N85639</td>\n",
       "      <td>0401020K0</td>\n",
       "      <td>Diazepam_Tab 2mg</td>\n",
       "      <td>1</td>\n",
       "      <td>0.16</td>\n",
       "      <td>0.26</td>\n",
       "      <td>6</td>\n",
       "      <td>0</td>\n",
       "    </tr>\n",
       "  </tbody>\n",
       "</table>\n",
       "</div>"
      ],
      "text/plain": [
       "  practice   bnf_code                              bnf_name  items   nic  \\\n",
       "0   N85639  0106020C0                 Bisacodyl_Tab E/C 5mg      1  0.39   \n",
       "1   N85639  0106040M0      Movicol Plain_Paed Pdr Sach 6.9g      1  4.38   \n",
       "2   N85639  0301011R0    Salbutamol_Inha 100mcg (200 D) CFF      1  1.50   \n",
       "3   N85639  0304010G0  Chlorphenamine Mal_Oral Soln 2mg/5ml      1  2.62   \n",
       "4   N85639  0401020K0                      Diazepam_Tab 2mg      1  0.16   \n",
       "\n",
       "   act_cost  quantity  is_opioid  \n",
       "0      0.47        12          0  \n",
       "1      4.07        30          0  \n",
       "2      1.40         1          0  \n",
       "3      2.44       150          0  \n",
       "4      0.26         6          0  "
      ]
     },
     "execution_count": 23,
     "metadata": {},
     "output_type": "execute_result"
    }
   ],
   "source": [
    "scripts.head()"
   ]
  },
  {
   "cell_type": "code",
   "execution_count": 24,
   "metadata": {
    "hidden": true
   },
   "outputs": [],
   "source": [
    "opioids_per_practice = scripts.groupby('practice')['is_opioid'].mean()"
   ]
  },
  {
   "cell_type": "code",
   "execution_count": 25,
   "metadata": {
    "hidden": true
   },
   "outputs": [],
   "source": [
    "relative_opioids_per_practice = opioids_per_practice - scripts['is_opioid'].mean() "
   ]
  },
  {
   "cell_type": "markdown",
   "metadata": {
    "hidden": true
   },
   "source": [
    "Now that we know the difference between each practice's opioid prescription rate and the overall rate, we can identify which practices prescribe opioids at above average or below average rates. However, are the differences from the overall rate important or just random deviations? In other words, are the differences from the overall rate big or small?\n",
    "\n",
    "To answer this question we have to quantify the difference we would typically expect between a given practice's opioid prescription rate and the overall rate. This quantity is called the **standard error**, and is related to the **standard deviation**, $\\sigma$. The standard error in this case is\n",
    "\n",
    "$$ \\frac{\\sigma}{\\sqrt{n}} $$\n",
    "\n",
    "where $n$ is the number of prescriptions each practice made. Calculate the standard error for each practice. Then divide `relative_opioids_per_practice` by the standard errors. We'll call the final result `opioid_scores`."
   ]
  },
  {
   "cell_type": "code",
   "execution_count": 26,
   "metadata": {
    "hidden": true
   },
   "outputs": [],
   "source": [
    "standard_error_per_practice = scripts['is_opioid'].std()/np.sqrt(scripts.groupby('practice')['is_opioid'].count())\n",
    "\n",
    "opioid_scores = (relative_opioids_per_practice/standard_error_per_practice).rename('opioid_score')"
   ]
  },
  {
   "cell_type": "code",
   "execution_count": 27,
   "metadata": {
    "hidden": true
   },
   "outputs": [
    {
     "data": {
      "text/plain": [
       "practice\n",
       "A81005   -0.551807\n",
       "A81007    1.540186\n",
       "A81011    2.293528\n",
       "A81012    1.373723\n",
       "A81017    0.586611\n",
       "Name: opioid_score, dtype: float64"
      ]
     },
     "execution_count": 27,
     "metadata": {},
     "output_type": "execute_result"
    }
   ],
   "source": [
    "opioid_scores.head()"
   ]
  },
  {
   "cell_type": "code",
   "execution_count": 28,
   "metadata": {
    "hidden": true
   },
   "outputs": [
    {
     "data": {
      "text/plain": [
       "code\n",
       "N82646    3\n",
       "Y04804    3\n",
       "Y04565    3\n",
       "F85065    3\n",
       "P92021    3\n",
       "Name: name, dtype: int64"
      ]
     },
     "execution_count": 28,
     "metadata": {},
     "output_type": "execute_result"
    }
   ],
   "source": [
    "#We can notice that some codes are associated with multiple names\n",
    "practices.groupby('code')['name'].nunique().sort_values(ascending=False).head()"
   ]
  },
  {
   "cell_type": "code",
   "execution_count": 29,
   "metadata": {
    "hidden": true
   },
   "outputs": [],
   "source": [
    "#Retrieve the first alphabetically name for each practice code\n",
    "practice_names = practices.groupby('code')['name'].apply(lambda group: sorted([row for row in group])[0])"
   ]
  },
  {
   "cell_type": "code",
   "execution_count": 30,
   "metadata": {
    "hidden": true
   },
   "outputs": [],
   "source": [
    "#Compute the number of scripts for each practice\n",
    "scripts_per_practice = scripts.groupby('practice').size().rename('scripts_number')"
   ]
  },
  {
   "cell_type": "code",
   "execution_count": 31,
   "metadata": {
    "hidden": true
   },
   "outputs": [
    {
     "data": {
      "text/html": [
       "<div>\n",
       "<style scoped>\n",
       "    .dataframe tbody tr th:only-of-type {\n",
       "        vertical-align: middle;\n",
       "    }\n",
       "\n",
       "    .dataframe tbody tr th {\n",
       "        vertical-align: top;\n",
       "    }\n",
       "\n",
       "    .dataframe thead th {\n",
       "        text-align: right;\n",
       "    }\n",
       "</style>\n",
       "<table border=\"1\" class=\"dataframe\">\n",
       "  <thead>\n",
       "    <tr style=\"text-align: right;\">\n",
       "      <th></th>\n",
       "      <th>name</th>\n",
       "      <th>opioid_score</th>\n",
       "      <th>scripts_number</th>\n",
       "    </tr>\n",
       "  </thead>\n",
       "  <tbody>\n",
       "    <tr>\n",
       "      <th>A81005</th>\n",
       "      <td>SPRINGWOOD SURGERY</td>\n",
       "      <td>-0.551807</td>\n",
       "      <td>1509</td>\n",
       "    </tr>\n",
       "    <tr>\n",
       "      <th>A81007</th>\n",
       "      <td>BANKHOUSE SURGERY</td>\n",
       "      <td>1.540186</td>\n",
       "      <td>1456</td>\n",
       "    </tr>\n",
       "    <tr>\n",
       "      <th>A81011</th>\n",
       "      <td>CHADWICK PRACTICE</td>\n",
       "      <td>2.293528</td>\n",
       "      <td>1569</td>\n",
       "    </tr>\n",
       "    <tr>\n",
       "      <th>A81012</th>\n",
       "      <td>WESTBOURNE MEDICAL CENTRE</td>\n",
       "      <td>1.373723</td>\n",
       "      <td>1333</td>\n",
       "    </tr>\n",
       "    <tr>\n",
       "      <th>A81017</th>\n",
       "      <td>WOODBRIDGE PRACTICE</td>\n",
       "      <td>0.586611</td>\n",
       "      <td>2151</td>\n",
       "    </tr>\n",
       "  </tbody>\n",
       "</table>\n",
       "</div>"
      ],
      "text/plain": [
       "                             name  opioid_score  scripts_number\n",
       "A81005         SPRINGWOOD SURGERY     -0.551807            1509\n",
       "A81007          BANKHOUSE SURGERY      1.540186            1456\n",
       "A81011          CHADWICK PRACTICE      2.293528            1569\n",
       "A81012  WESTBOURNE MEDICAL CENTRE      1.373723            1333\n",
       "A81017        WOODBRIDGE PRACTICE      0.586611            2151"
      ]
     },
     "execution_count": 31,
     "metadata": {},
     "output_type": "execute_result"
    }
   ],
   "source": [
    "#Combine each practice name with its opioid score and number of scripts\n",
    "practice_results = pd.concat([practice_names, opioid_scores, scripts_per_practice], axis=1, join='inner')\n",
    "practice_results.head()"
   ]
  },
  {
   "cell_type": "markdown",
   "metadata": {
    "hidden": true
   },
   "source": [
    "The quantity we have calculated in `opioid_scores` is called a **z-score**:\n",
    "\n",
    "$$ \\frac{\\bar{X} - \\mu}{\\sqrt{\\sigma^2/n}} $$\n",
    "\n",
    "Here $\\bar{X}$ corresponds with the proportion for each practice, $\\mu$ corresponds with the proportion across all practices, $\\sigma^2$ corresponds with the variance of the proportion across all practices, and $n$ is the number of prescriptions made by each practice. Notice $\\bar{X}$ and $n$ will be different for each practice, while $\\mu$ and $\\sigma$ are determined across all prescriptions, and so are the same for every z-score. The z-score is a useful statistical tool used for hypothesis testing, finding outliers, and comparing data about different types of objects or events.\n"
   ]
  },
  {
   "cell_type": "code",
   "execution_count": 32,
   "metadata": {
    "hidden": true
   },
   "outputs": [],
   "source": [
    "anomalies = sorted([(row[1],row[2],row[3]) for row in practice_results.itertuples()], key=lambda x:x[1], reverse=True)[:100]  \n",
    "#anomalies = [(\"NATIONAL ENHANCED SERVICE\", 11.6958178629, 7)] * 100"
   ]
  },
  {
   "cell_type": "code",
   "execution_count": 33,
   "metadata": {
    "hidden": true
   },
   "outputs": [
    {
     "data": {
      "text/plain": [
       "[('NATIONAL ENHANCED SERVICE', 11.700971787531765, 7),\n",
       " ('OUTREACH SERVICE NH / RH', 7.342237296128809, 2),\n",
       " ('BRISDOC HEALTHCARE SERVICES OOH', 6.154319628897654, 60),\n",
       " ('H&R P C SPECIAL SCHEME', 5.126072754033091, 36),\n",
       " ('HMR BARDOC OOH', 4.963767331533176, 321)]"
      ]
     },
     "execution_count": 33,
     "metadata": {},
     "output_type": "execute_result"
    }
   ],
   "source": [
    "anomalies[:5]"
   ]
  },
  {
   "cell_type": "markdown",
   "metadata": {
    "heading_collapsed": true
   },
   "source": [
    "## Identifying script growth\n",
    "\n",
    "Another way to identify anomalies is by comparing current data to historical data. In the case of identifying sites of drug abuse, we might compare a practice's current rate of opioid prescription to their rate 5 or 10 years ago. Unless the nature of the practice has changed, the profile of drugs they prescribe should be relatively stable. We might also want to identify trends through time for business reasons, identifying drugs that are gaining market share."
   ]
  },
  {
   "cell_type": "code",
   "execution_count": 34,
   "metadata": {
    "hidden": true
   },
   "outputs": [],
   "source": [
    "scripts16 = pd.read_csv('./dw-data/201606scripts_sample.csv.gz', compression='gzip')"
   ]
  },
  {
   "cell_type": "code",
   "execution_count": 35,
   "metadata": {
    "hidden": true,
    "scrolled": true
   },
   "outputs": [
    {
     "data": {
      "text/html": [
       "<div>\n",
       "<style scoped>\n",
       "    .dataframe tbody tr th:only-of-type {\n",
       "        vertical-align: middle;\n",
       "    }\n",
       "\n",
       "    .dataframe tbody tr th {\n",
       "        vertical-align: top;\n",
       "    }\n",
       "\n",
       "    .dataframe thead th {\n",
       "        text-align: right;\n",
       "    }\n",
       "</style>\n",
       "<table border=\"1\" class=\"dataframe\">\n",
       "  <thead>\n",
       "    <tr style=\"text-align: right;\">\n",
       "      <th></th>\n",
       "      <th>practice</th>\n",
       "      <th>bnf_code</th>\n",
       "      <th>bnf_name</th>\n",
       "      <th>items</th>\n",
       "      <th>nic</th>\n",
       "      <th>act_cost</th>\n",
       "      <th>quantity</th>\n",
       "    </tr>\n",
       "  </thead>\n",
       "  <tbody>\n",
       "    <tr>\n",
       "      <th>0</th>\n",
       "      <td>N85638</td>\n",
       "      <td>0301011R0</td>\n",
       "      <td>Salamol_Inha 100mcg (200 D) CFF (Teva)</td>\n",
       "      <td>2</td>\n",
       "      <td>2.92</td>\n",
       "      <td>2.73</td>\n",
       "      <td>2</td>\n",
       "    </tr>\n",
       "    <tr>\n",
       "      <th>1</th>\n",
       "      <td>N85638</td>\n",
       "      <td>0301011R0</td>\n",
       "      <td>Easyhaler_Salbutamol Sulf 200mcg (200D)</td>\n",
       "      <td>1</td>\n",
       "      <td>6.63</td>\n",
       "      <td>6.15</td>\n",
       "      <td>1</td>\n",
       "    </tr>\n",
       "    <tr>\n",
       "      <th>2</th>\n",
       "      <td>N85638</td>\n",
       "      <td>0301020I0</td>\n",
       "      <td>Ipratrop Brom_Inh Soln 500mcg/2ml Ud</td>\n",
       "      <td>1</td>\n",
       "      <td>1.77</td>\n",
       "      <td>1.75</td>\n",
       "      <td>12</td>\n",
       "    </tr>\n",
       "  </tbody>\n",
       "</table>\n",
       "</div>"
      ],
      "text/plain": [
       "  practice   bnf_code                                 bnf_name  items   nic  \\\n",
       "0   N85638  0301011R0   Salamol_Inha 100mcg (200 D) CFF (Teva)      2  2.92   \n",
       "1   N85638  0301011R0  Easyhaler_Salbutamol Sulf 200mcg (200D)      1  6.63   \n",
       "2   N85638  0301020I0     Ipratrop Brom_Inh Soln 500mcg/2ml Ud      1  1.77   \n",
       "\n",
       "   act_cost  quantity  \n",
       "0      2.73         2  \n",
       "1      6.15         1  \n",
       "2      1.75        12  "
      ]
     },
     "execution_count": 35,
     "metadata": {},
     "output_type": "execute_result"
    }
   ],
   "source": [
    "scripts16.head(3)"
   ]
  },
  {
   "cell_type": "code",
   "execution_count": 36,
   "metadata": {
    "hidden": true
   },
   "outputs": [],
   "source": [
    "#Compute both 2016 and 2017 prescription count for each bnf_name\n",
    "bnf16 = scripts16.groupby('bnf_name').size().rename('bnf16_count')\n",
    "bnf17 = scripts.groupby('bnf_name').size().rename('bnf17_count')"
   ]
  },
  {
   "cell_type": "code",
   "execution_count": 37,
   "metadata": {
    "hidden": true
   },
   "outputs": [],
   "source": [
    "#Merge bnf16 and bnf17 data and eliminate occurences with no prescriptions in 2016 or in 2017\n",
    "bnf = pd.concat([bnf16, bnf17], axis=1, sort=True).dropna(axis=0, how='any')\n",
    "\n",
    "#Compute the percent growth in prescription rate from 2016 to 2017\n",
    "bnf['growth_rate'] = (bnf['bnf17_count']-bnf['bnf16_count'])/bnf['bnf16_count']"
   ]
  },
  {
   "cell_type": "code",
   "execution_count": 38,
   "metadata": {
    "hidden": true
   },
   "outputs": [],
   "source": [
    "#Filter out drugs items with less than 50 prescriptions in 2016 and sort items by growth rate\n",
    "bnf_high_count = bnf[bnf['bnf16_count'] >= 50].sort_values(by='growth_rate', ascending=False)"
   ]
  },
  {
   "cell_type": "code",
   "execution_count": 39,
   "metadata": {
    "hidden": true
   },
   "outputs": [
    {
     "data": {
      "text/html": [
       "<div>\n",
       "<style scoped>\n",
       "    .dataframe tbody tr th:only-of-type {\n",
       "        vertical-align: middle;\n",
       "    }\n",
       "\n",
       "    .dataframe tbody tr th {\n",
       "        vertical-align: top;\n",
       "    }\n",
       "\n",
       "    .dataframe thead th {\n",
       "        text-align: right;\n",
       "    }\n",
       "</style>\n",
       "<table border=\"1\" class=\"dataframe\">\n",
       "  <thead>\n",
       "    <tr style=\"text-align: right;\">\n",
       "      <th></th>\n",
       "      <th>bnf16_count</th>\n",
       "      <th>bnf17_count</th>\n",
       "      <th>growth_rate</th>\n",
       "    </tr>\n",
       "    <tr>\n",
       "      <th>bnf_name</th>\n",
       "      <th></th>\n",
       "      <th></th>\n",
       "      <th></th>\n",
       "    </tr>\n",
       "  </thead>\n",
       "  <tbody>\n",
       "    <tr>\n",
       "      <th>Butec_Transdermal Patch 5mcg/hr</th>\n",
       "      <td>62.0</td>\n",
       "      <td>277.0</td>\n",
       "      <td>3.467742</td>\n",
       "    </tr>\n",
       "    <tr>\n",
       "      <th>Butec_Transdermal Patch 10mcg/hr</th>\n",
       "      <td>69.0</td>\n",
       "      <td>276.0</td>\n",
       "      <td>3.000000</td>\n",
       "    </tr>\n",
       "    <tr>\n",
       "      <th>Fostair NEXThaler_Inh 200mcg/6mcg (120D)</th>\n",
       "      <td>86.0</td>\n",
       "      <td>209.0</td>\n",
       "      <td>1.430233</td>\n",
       "    </tr>\n",
       "  </tbody>\n",
       "</table>\n",
       "</div>"
      ],
      "text/plain": [
       "                                          bnf16_count  bnf17_count  \\\n",
       "bnf_name                                                             \n",
       "Butec_Transdermal Patch 5mcg/hr                  62.0        277.0   \n",
       "Butec_Transdermal Patch 10mcg/hr                 69.0        276.0   \n",
       "Fostair NEXThaler_Inh 200mcg/6mcg (120D)         86.0        209.0   \n",
       "\n",
       "                                          growth_rate  \n",
       "bnf_name                                               \n",
       "Butec_Transdermal Patch 5mcg/hr              3.467742  \n",
       "Butec_Transdermal Patch 10mcg/hr             3.000000  \n",
       "Fostair NEXThaler_Inh 200mcg/6mcg (120D)     1.430233  "
      ]
     },
     "execution_count": 39,
     "metadata": {},
     "output_type": "execute_result"
    }
   ],
   "source": [
    "bnf_high_count.head(3)"
   ]
  },
  {
   "cell_type": "code",
   "execution_count": 40,
   "metadata": {
    "hidden": true
   },
   "outputs": [],
   "source": [
    "#Retrieve 50 items with largest growth and 50 items with largest shrinkage (high negative growth)\n",
    "largest_growth = bnf_high_count.head(50)\n",
    "largest_shrinkage = bnf_high_count.tail(50)\n",
    "\n",
    "#Combine results into a new DataFrame\n",
    "growth_anomalies = pd.concat([largest_growth, largest_shrinkage])"
   ]
  },
  {
   "cell_type": "code",
   "execution_count": 41,
   "metadata": {
    "hidden": true
   },
   "outputs": [],
   "source": [
    "#Retrieve results as a list of tuples in format ('bnf_name', 'growth_rate', 'bnf16_count')\n",
    "script_growth = [(row[0], row[3], row[1]) for row in growth_anomalies.itertuples()]"
   ]
  },
  {
   "cell_type": "code",
   "execution_count": 42,
   "metadata": {
    "hidden": true
   },
   "outputs": [
    {
     "data": {
      "text/plain": [
       "[('Butec_Transdermal Patch 5mcg/hr', 3.467741935483871, 62.0),\n",
       " ('Butec_Transdermal Patch 10mcg/hr', 3.0, 69.0),\n",
       " ('Fostair NEXThaler_Inh 200mcg/6mcg (120D)', 1.430232558139535, 86.0),\n",
       " ('Sytron_Elix 190mg/5ml S/F', 1.280130293159609, 307.0),\n",
       " ('Pneumococcal_Vac 0.5ml Vl (23 Valent)', 1.2694300518134716, 193.0),\n",
       " ('Spiolto Respimat_Inha2.5/2.5mcg(60D)+Dev', 1.2692307692307692, 52.0),\n",
       " ('Trulicity_Inj 1.5mg/0.5ml Pf Pen', 1.1851851851851851, 54.0),\n",
       " ('CosmoCol_Paed Oral Pdr Sach 6.9g', 1.1774193548387097, 62.0),\n",
       " ('Dulaglutide_Inj 1.5mg/0.5ml Pf Dev', 0.9634146341463414, 82.0),\n",
       " ('Sod Feredetate_Oral Soln 190mg/5ml S/F', 0.9181818181818182, 440.0),\n",
       " ('ViATIM_Vac D/Chamber 160u/25mcg 1ml Pfs', 0.912, 125.0),\n",
       " ('Empagliflozin_Tab 25mg', 0.896, 125.0),\n",
       " ('CareSens Lancets 0.31mm/30 Gauge', 0.8955223880597015, 67.0),\n",
       " ('Fostair_Inh 200mcg/6mcg (120D) CFF', 0.8616600790513834, 253.0),\n",
       " ('Orbis Nor Saline Sod Chlor 0.9% Nsl Dps', 0.8588235294117647, 85.0),\n",
       " ('Umeclidinium Brom_Inh 65mcg (30D)', 0.8275862068965517, 87.0),\n",
       " ('Ultibro Breezhaler_Pdr Inh Cap + Dev', 0.8016528925619835, 121.0),\n",
       " ('Medihoney_Barrier Crm', 0.7840909090909091, 88.0),\n",
       " ('Fluoxetine HCl_Oral Soln 20mg/5ml S/F', 0.7808219178082192, 73.0),\n",
       " ('TEE2 (Reagent)_Strips', 0.7777777777777778, 81.0),\n",
       " ('Laxido_Paed Plain Oral Pdr Sach 6.9g', 0.7586206896551724, 174.0),\n",
       " ('Zaluron XL_Tab 400mg', 0.7586206896551724, 58.0),\n",
       " ('Prednisolone_Oral Soln 5mg/5ml Ud', 0.726027397260274, 73.0),\n",
       " ('Buprenorphine_Patch 15mcg/hr (7day)', 0.7155963302752294, 109.0),\n",
       " ('Coloplast_SenSura Mio Maxi Drnbl Bag S/C', 0.7037037037037037, 81.0),\n",
       " ('Octenisan_Antimicrobial Wsh Lot', 0.7027027027027027, 74.0),\n",
       " ('Duaklir Genuair_340mcg/12mcg (60D)', 0.6710526315789473, 152.0),\n",
       " ('Sod Chlor_Inh Soln 0.9% 2.5ml Ud Amp', 0.6419753086419753, 162.0),\n",
       " ('Coloplast_SenSura Mio Maxi Drnbl Bag L/C', 0.6274509803921569, 51.0),\n",
       " ('Flutiform_Inha 50/5mcg (120 D)', 0.625, 88.0),\n",
       " ('Ins Degludec_100u/ml 3ml Pf Pen', 0.6166666666666667, 60.0),\n",
       " ('CareSens Lancets 0.36mm/28 Gauge', 0.6111111111111112, 90.0),\n",
       " ('Epimax Crm 500g', 0.61, 100.0),\n",
       " ('Evacal D3_Tab Chble 400u/1.5g', 0.6046511627906976, 86.0),\n",
       " ('Shortec_Cap 20mg', 0.6029411764705882, 68.0),\n",
       " ('Co-Trimoxazole_Oral Susp 40/200mg/5mlS/F', 0.6, 50.0),\n",
       " ('Ciprofloxacin_Gran For Susp 250mg/5ml', 0.5921052631578947, 76.0),\n",
       " ('AgaMatrix Ultra-Thin Lancets 0.35mm/28 G', 0.5660377358490566, 53.0),\n",
       " ('Zemtard 120 XL_Cap 120mg', 0.5636363636363636, 55.0),\n",
       " ('Nutramigen 2 + LGG_Pdr', 0.5604395604395604, 91.0),\n",
       " ('Toujeo_300u/ml 1.5ml Pf SoloStar Pen', 0.5408805031446541, 159.0),\n",
       " ('Ins Tresiba_FlexTouch 100u/ml 3ml Pf Pen', 0.5405405405405406, 148.0),\n",
       " ('Longtec_Tab 30mg M/R', 0.5370370370370371, 108.0),\n",
       " ('Adalat_Cap 5mg', 0.5365853658536586, 82.0),\n",
       " ('Dexameth_Oral Soln 2mg/5ml S/F', 0.5294117647058824, 68.0),\n",
       " ('Haloperidol_Inj 5mg/ml 1ml Amp', 0.5288461538461539, 104.0),\n",
       " ('Lyclear_Dermal Crm 5%', 0.5211267605633803, 71.0),\n",
       " ('Valupak_Multivit & Mineral Tab OAD', 0.5098039215686274, 51.0),\n",
       " ('Coloplast_Sensura Mio Maxi Clsd Bag + Fl', 0.5056179775280899, 89.0),\n",
       " ('Medikinet XL_Cap 10mg', 0.48484848484848486, 99.0),\n",
       " ('Oxycodone HCl_Tab 20mg M/R', -0.4318181818181818, 264.0),\n",
       " ('Cardura XL_Tab 4mg', -0.43478260869565216, 69.0),\n",
       " ('Oxycodone HCl_Tab 80mg M/R', -0.4358974358974359, 78.0),\n",
       " ('Verapamil HCl_Cap 120mg M/R', -0.43790849673202614, 153.0),\n",
       " ('Topamax_Tab 100mg', -0.45161290322580644, 62.0),\n",
       " ('Opticrom_Allergy Eye Dps 2%', -0.4523809523809524, 126.0),\n",
       " ('Optilast_Eye Dps 0.05%', -0.45454545454545453, 55.0),\n",
       " ('Actonel_Once a Week Tab 35mg', -0.4576271186440678, 59.0),\n",
       " ('Premique_Tab 0.625mg/5mg', -0.47039473684210525, 304.0),\n",
       " ('Sunsense_Daily Face Crm Spf 50+', -0.48344370860927155, 151.0),\n",
       " ('Hydrocort/Crotamiton_Crm 0.25%/10%', -0.48936170212765956, 141.0),\n",
       " ('Azelastine HCl_Aq Eye Dps 0.05%', -0.5036231884057971, 276.0),\n",
       " ('Opticrom_Eye Dps 2% (Aq)', -0.5073891625615764, 203.0),\n",
       " ('Metoprolol Tart_Tab 200mg M/R', -0.509090909090909, 55.0),\n",
       " ('Rapitil_Eye Dps 2%', -0.5096774193548387, 155.0),\n",
       " ('Desloratadine_Oral Soln 2.5mg/5ml S/F', -0.5147058823529411, 136.0),\n",
       " ('Erythromycin_Ethylsuc Tab 500mg', -0.5154639175257731, 97.0),\n",
       " ('Aquacel Foam Adhesive 8cm x 8cm Wound Dr', -0.5294117647058824, 68.0),\n",
       " ('Zirtek_Allergy Tab 10mg', -0.5303030303030303, 66.0),\n",
       " ('Antaz Sulf/Xylomet_Eye Dps 0.5%/0.05%', -0.5454545454545454, 66.0),\n",
       " ('Vital 1.5kcal_Liq (Vanilla)', -0.5466666666666666, 75.0),\n",
       " ('Oxybutynin HCl_Oral Soln 2.5mg/5ml S/F', -0.5573770491803278, 61.0),\n",
       " ('Prazosin HCl_Tab 500mcg', -0.5581395348837209, 86.0),\n",
       " ('Artificial Saliva_Spy 50ml', -0.5586854460093896, 213.0),\n",
       " ('Sunsense_Ultra Lot Spf 50+', -0.5652173913043478, 368.0),\n",
       " ('Telfast 120_Tab 120mg', -0.5698924731182796, 93.0),\n",
       " ('Otrivine-Antistin_Eye Dps', -0.572463768115942, 138.0),\n",
       " ('Fexofenadine HCl_Tab 30mg', -0.5959595959595959, 297.0),\n",
       " ('Mag Trisil_Mix', -0.6119402985074627, 67.0),\n",
       " ('Glibenclamide_Tab 5mg', -0.6164383561643836, 146.0),\n",
       " ('Co-Danthrusate_Cap 50mg/60mg', -0.6296296296296297, 81.0),\n",
       " ('Ketotifen Fumar_Eye Dps 250mcg/ml', -0.6842105263157895, 57.0),\n",
       " ('Uvistat_Sun Crm Spf 50', -0.6917293233082706, 133.0),\n",
       " ('Haelan_Tape 7.5cm x 50cm', -0.7130434782608696, 115.0),\n",
       " ('Haelan_Tape 7.5cm x 20cm', -0.72, 100.0),\n",
       " ('Beconase_Hayfever Nsl Spy 50mcg (180 D)', -0.7384615384615385, 65.0),\n",
       " ('Uvistat_Sun Crm Spf 30', -0.7647058823529411, 68.0),\n",
       " ('Deep Freeze_Cold Gel 2%', -0.7758620689655172, 58.0),\n",
       " ('Adizem-SR_Tab 120mg', -0.8269230769230769, 52.0),\n",
       " ('Anugesic HC_Crm', -0.8541666666666666, 96.0),\n",
       " ('Sunsense_Sunsensitive Crm SPF 50+', -0.8562091503267973, 153.0),\n",
       " ('Hepatyrix_Vac 1440u/25mcg/ml 1ml Pfs', -0.875, 216.0),\n",
       " ('Climagest_Tab 2mg', -0.8939393939393939, 66.0),\n",
       " ('Climaval_Tab 2mg', -0.9015151515151515, 132.0),\n",
       " ('Orphenadrine HCl_Tab 50mg', -0.9117647058823529, 102.0),\n",
       " ('Hydroxyzine HCl_Oral Soln 10mg/5ml', -0.9148936170212766, 94.0),\n",
       " ('Ovysmen_Tab', -0.9253731343283582, 67.0),\n",
       " ('Climaval_Tab 1mg', -0.9264705882352942, 136.0),\n",
       " ('Climesse_Tab', -0.9420289855072463, 69.0),\n",
       " ('Polyalc_Eye Dps 1.4%', -0.9963235294117647, 272.0)]"
      ]
     },
     "execution_count": 42,
     "metadata": {},
     "output_type": "execute_result"
    }
   ],
   "source": [
    "script_growth"
   ]
  },
  {
   "cell_type": "markdown",
   "metadata": {
    "heading_collapsed": true
   },
   "source": [
    "## Finding rare scripts\n",
    "\n",
    "Does a practice's prescription costs originate from routine care or from reliance on rarely prescribed treatments? Commonplace treatments can carry lower costs than rare treatments because of efficiencies in large-scale production. While some specialist practices can't help but avoid prescribing rare medicines because there are no alternatives, some practices may be prescribing a unnecessary amount of brand-name products when generics are available. Let's identify practices whose costs disproportionately originate from rarely prescribed items.\n"
   ]
  },
  {
   "cell_type": "code",
   "execution_count": 43,
   "metadata": {
    "hidden": true
   },
   "outputs": [],
   "source": [
    "scripts = pd.read_csv(\"./dw-data/201701scripts_sample.csv.gz\", compression = 'gzip')"
   ]
  },
  {
   "cell_type": "code",
   "execution_count": 44,
   "metadata": {
    "hidden": true
   },
   "outputs": [],
   "source": [
    "#Compute the uniform probability of randomly chosing a bnf_code from the options available in data\n",
    "p = 1/scripts['bnf_code'].nunique()\n",
    "\n",
    "#Compute the rates at which each bnf_code is prescribed\n",
    "rates = (scripts.groupby('bnf_code').size()/len(scripts)).rename('prescription_rate')\n",
    "\n",
    "#Find rare bnf_code\n",
    "rare_codes = rates <= 0.1*p\n",
    "\n",
    "#Flag scripts prescribing rare bnf_code\n",
    "scripts.set_index('bnf_code', inplace=True)\n",
    "scripts['rare'] = pd.DataFrame(rare_codes)"
   ]
  },
  {
   "cell_type": "code",
   "execution_count": 45,
   "metadata": {
    "hidden": true
   },
   "outputs": [
    {
     "data": {
      "text/html": [
       "<div>\n",
       "<style scoped>\n",
       "    .dataframe tbody tr th:only-of-type {\n",
       "        vertical-align: middle;\n",
       "    }\n",
       "\n",
       "    .dataframe tbody tr th {\n",
       "        vertical-align: top;\n",
       "    }\n",
       "\n",
       "    .dataframe thead th {\n",
       "        text-align: right;\n",
       "    }\n",
       "</style>\n",
       "<table border=\"1\" class=\"dataframe\">\n",
       "  <thead>\n",
       "    <tr style=\"text-align: right;\">\n",
       "      <th></th>\n",
       "      <th>practice</th>\n",
       "      <th>bnf_name</th>\n",
       "      <th>items</th>\n",
       "      <th>nic</th>\n",
       "      <th>act_cost</th>\n",
       "      <th>quantity</th>\n",
       "      <th>rare</th>\n",
       "    </tr>\n",
       "    <tr>\n",
       "      <th>bnf_code</th>\n",
       "      <th></th>\n",
       "      <th></th>\n",
       "      <th></th>\n",
       "      <th></th>\n",
       "      <th></th>\n",
       "      <th></th>\n",
       "      <th></th>\n",
       "    </tr>\n",
       "  </thead>\n",
       "  <tbody>\n",
       "    <tr>\n",
       "      <th>0106020C0</th>\n",
       "      <td>N85639</td>\n",
       "      <td>Bisacodyl_Tab E/C 5mg</td>\n",
       "      <td>1</td>\n",
       "      <td>0.39</td>\n",
       "      <td>0.47</td>\n",
       "      <td>12</td>\n",
       "      <td>False</td>\n",
       "    </tr>\n",
       "    <tr>\n",
       "      <th>0106040M0</th>\n",
       "      <td>N85639</td>\n",
       "      <td>Movicol Plain_Paed Pdr Sach 6.9g</td>\n",
       "      <td>1</td>\n",
       "      <td>4.38</td>\n",
       "      <td>4.07</td>\n",
       "      <td>30</td>\n",
       "      <td>False</td>\n",
       "    </tr>\n",
       "    <tr>\n",
       "      <th>0301011R0</th>\n",
       "      <td>N85639</td>\n",
       "      <td>Salbutamol_Inha 100mcg (200 D) CFF</td>\n",
       "      <td>1</td>\n",
       "      <td>1.50</td>\n",
       "      <td>1.40</td>\n",
       "      <td>1</td>\n",
       "      <td>False</td>\n",
       "    </tr>\n",
       "  </tbody>\n",
       "</table>\n",
       "</div>"
      ],
      "text/plain": [
       "          practice                            bnf_name  items   nic  act_cost  \\\n",
       "bnf_code                                                                        \n",
       "0106020C0   N85639               Bisacodyl_Tab E/C 5mg      1  0.39      0.47   \n",
       "0106040M0   N85639    Movicol Plain_Paed Pdr Sach 6.9g      1  4.38      4.07   \n",
       "0301011R0   N85639  Salbutamol_Inha 100mcg (200 D) CFF      1  1.50      1.40   \n",
       "\n",
       "           quantity   rare  \n",
       "bnf_code                    \n",
       "0106020C0        12  False  \n",
       "0106040M0        30  False  \n",
       "0301011R0         1  False  "
      ]
     },
     "execution_count": 45,
     "metadata": {},
     "output_type": "execute_result"
    }
   ],
   "source": [
    "scripts.head(3)"
   ]
  },
  {
   "cell_type": "markdown",
   "metadata": {
    "hidden": true
   },
   "source": [
    "Now for each practice, calculate the proportion of costs that originate from prescription of rare treatments (i.e. rare `'bnf_code'`). Use the `'act_cost'` field for this calculation."
   ]
  },
  {
   "cell_type": "code",
   "execution_count": 46,
   "metadata": {
    "hidden": true
   },
   "outputs": [],
   "source": [
    "\n",
    "practice_rare_cost = scripts[scripts['rare']].groupby('practice')['act_cost'].sum()\n",
    "practice_total_cost = scripts.groupby('practice')['act_cost'].sum()\n",
    "practice_rare_cost_prop = (practice_rare_cost/practice_total_cost).fillna(0)"
   ]
  },
  {
   "cell_type": "markdown",
   "metadata": {
    "hidden": true
   },
   "source": [
    "Now we will calculate a z-score for each practice based on this proportion.\n",
    "First take the difference of `rare_cost_prop` and the proportion of costs originating from rare treatments across all practices."
   ]
  },
  {
   "cell_type": "code",
   "execution_count": 47,
   "metadata": {
    "hidden": true
   },
   "outputs": [],
   "source": [
    "total_rare_cost = scripts[scripts['rare']]['act_cost'].sum()\n",
    "total_cost = scripts['act_cost'].sum()\n",
    "mean_rare_cost_prop = total_rare_cost/total_cost\n",
    "\n",
    "relative_rare_cost_prop = practice_rare_cost_prop - mean_rare_cost_prop"
   ]
  },
  {
   "cell_type": "markdown",
   "metadata": {
    "hidden": true
   },
   "source": [
    "Now we will estimate the standard errors (i.e. the denominator of the z-score) by simply taking the standard deviation of this difference."
   ]
  },
  {
   "cell_type": "code",
   "execution_count": 48,
   "metadata": {
    "hidden": true
   },
   "outputs": [],
   "source": [
    "standard_error = relative_rare_cost_prop.std()"
   ]
  },
  {
   "cell_type": "markdown",
   "metadata": {
    "hidden": true
   },
   "source": [
    "Finally compute the z-scores. Return the practices with the top 100 z-scores in the form `(post_code, practice_name, z-score)`. Note that some practice codes will correspond with multiple names. In this case, use the first match when sorting names alphabetically."
   ]
  },
  {
   "cell_type": "code",
   "execution_count": 49,
   "metadata": {
    "hidden": true
   },
   "outputs": [],
   "source": [
    "rare_scores = relative_rare_cost_prop/standard_error"
   ]
  },
  {
   "cell_type": "code",
   "execution_count": 50,
   "metadata": {
    "hidden": true
   },
   "outputs": [],
   "source": [
    "practice_names = practices.groupby('code')['name'].apply(lambda group: sorted([row for row in group])[0])"
   ]
  },
  {
   "cell_type": "code",
   "execution_count": 51,
   "metadata": {
    "hidden": true
   },
   "outputs": [],
   "source": [
    "practice_scores = pd.concat([rare_scores, practice_names], axis=1, join='inner').sort_values(by='act_cost', ascending=False)"
   ]
  },
  {
   "cell_type": "code",
   "execution_count": 53,
   "metadata": {
    "hidden": true
   },
   "outputs": [
    {
     "data": {
      "text/html": [
       "<div>\n",
       "<style scoped>\n",
       "    .dataframe tbody tr th:only-of-type {\n",
       "        vertical-align: middle;\n",
       "    }\n",
       "\n",
       "    .dataframe tbody tr th {\n",
       "        vertical-align: top;\n",
       "    }\n",
       "\n",
       "    .dataframe thead th {\n",
       "        text-align: right;\n",
       "    }\n",
       "</style>\n",
       "<table border=\"1\" class=\"dataframe\">\n",
       "  <thead>\n",
       "    <tr style=\"text-align: right;\">\n",
       "      <th></th>\n",
       "      <th>act_cost</th>\n",
       "      <th>name</th>\n",
       "    </tr>\n",
       "  </thead>\n",
       "  <tbody>\n",
       "    <tr>\n",
       "      <th>Y03472</th>\n",
       "      <td>16.262687</td>\n",
       "      <td>CONSULTANT DIABETES TEAM</td>\n",
       "    </tr>\n",
       "    <tr>\n",
       "      <th>Y05320</th>\n",
       "      <td>15.128648</td>\n",
       "      <td>DMC COMMUNITY DERMATOLOGY RBWF</td>\n",
       "    </tr>\n",
       "    <tr>\n",
       "      <th>Y04404</th>\n",
       "      <td>7.542139</td>\n",
       "      <td>OUTPATIENTS JUBILEE HEALTH CENTRE</td>\n",
       "    </tr>\n",
       "  </tbody>\n",
       "</table>\n",
       "</div>"
      ],
      "text/plain": [
       "         act_cost                               name\n",
       "Y03472  16.262687           CONSULTANT DIABETES TEAM\n",
       "Y05320  15.128648     DMC COMMUNITY DERMATOLOGY RBWF\n",
       "Y04404   7.542139  OUTPATIENTS JUBILEE HEALTH CENTRE"
      ]
     },
     "execution_count": 53,
     "metadata": {},
     "output_type": "execute_result"
    }
   ],
   "source": [
    "practice_scores.head(3)"
   ]
  },
  {
   "cell_type": "code",
   "execution_count": 54,
   "metadata": {
    "hidden": true
   },
   "outputs": [],
   "source": [
    "#We'll look at the top 100 z-scores\n",
    "rare_scripts = [(row[0], row[2], row[1]) for row in practice_scores.itertuples()][:100]"
   ]
  },
  {
   "cell_type": "code",
   "execution_count": 55,
   "metadata": {
    "hidden": true
   },
   "outputs": [
    {
     "data": {
      "text/plain": [
       "[('Y03472', 'CONSULTANT DIABETES TEAM', 16.262687124655088),\n",
       " ('Y05320', 'DMC COMMUNITY DERMATOLOGY RBWF', 15.128648195416883),\n",
       " ('Y04404', 'OUTPATIENTS JUBILEE HEALTH CENTRE', 7.542139356104627)]"
      ]
     },
     "execution_count": 55,
     "metadata": {},
     "output_type": "execute_result"
    }
   ],
   "source": [
    "rare_scripts[:3]"
   ]
  },
  {
   "cell_type": "markdown",
   "metadata": {
    "hidden": true
   },
   "source": [
    "*Copyright &copy; 2020 The Data Incubator.  All rights reserved.*"
   ]
  }
 ],
 "metadata": {
  "kernelspec": {
   "display_name": "Python 3 (ipykernel)",
   "language": "python",
   "name": "python3"
  },
  "language_info": {
   "codemirror_mode": {
    "name": "ipython",
    "version": 3
   },
   "file_extension": ".py",
   "mimetype": "text/x-python",
   "name": "python",
   "nbconvert_exporter": "python",
   "pygments_lexer": "ipython3",
   "version": "3.9.7"
  },
  "nbclean": true
 },
 "nbformat": 4,
 "nbformat_minor": 1
}
